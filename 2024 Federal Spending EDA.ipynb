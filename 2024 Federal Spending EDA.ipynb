{
 "cells": [
  {
   "cell_type": "markdown",
   "metadata": {
    "application/vnd.databricks.v1+cell": {
     "cellMetadata": {},
     "inputWidgets": {},
     "nuid": "93e56488-6157-483e-bb23-ec9714f9f873",
     "showTitle": false,
     "tableResultSettingsMap": {},
     "title": ""
    }
   },
   "source": [
    "# Load from Bronze\n",
    "\n",
    "**The bronze table data was downloaded from 'https://www.usaspending.gov/download_center/custom_account_data' with the following filters:**\n",
    "\n",
    "*Budget Function \\\n",
    "All \\\n",
    "Budget Sub-Function \\\n",
    "Budget sub-function not selected \\\n",
    "Agency \\\n",
    "All \\\n",
    "Federal Account \\\n",
    "Federal account not selected \\\n",
    "Account Level \\\n",
    "Federal Account \\\n",
    "Disaster Emergency Fund Codes \\\n",
    "— \\\n",
    "File Submission Type \\\n",
    "Account Balances (File A) \\\n",
    "Fiscal Year \\\n",
    "2024 - P12*"
   ]
  },
  {
   "cell_type": "code",
   "execution_count": 0,
   "metadata": {
    "application/vnd.databricks.v1+cell": {
     "cellMetadata": {
      "byteLimit": 2048000,
      "implicitDf": true,
      "rowLimit": 10000
     },
     "inputWidgets": {},
     "nuid": "21f0b191-8f54-4b75-b91c-9b853a675a89",
     "showTitle": false,
     "tableResultSettingsMap": {},
     "title": ""
    }
   },
   "outputs": [],
   "source": [
    "%sql\n",
    "SELECT current_schema()"
   ]
  },
  {
   "cell_type": "code",
   "execution_count": 0,
   "metadata": {
    "application/vnd.databricks.v1+cell": {
     "cellMetadata": {},
     "inputWidgets": {},
     "nuid": "2e5e7f70-ea02-45a5-bdfb-aa724007ec4f",
     "showTitle": false,
     "tableResultSettingsMap": {},
     "title": ""
    }
   },
   "outputs": [],
   "source": []
  }
 ],
 "metadata": {
  "application/vnd.databricks.v1+notebook": {
   "computePreferences": null,
   "dashboards": [],
   "environmentMetadata": {
    "base_environment": "",
    "environment_version": "2"
   },
   "inputWidgetPreferences": null,
   "language": "python",
   "notebookMetadata": {
    "mostRecentlyExecutedCommandWithImplicitDF": {
     "commandId": 8590253786742296,
     "dataframes": [
      "_sqldf"
     ]
    },
    "pythonIndentUnit": 4
   },
   "notebookName": "2024 Federal Spending EDA",
   "widgets": {}
  },
  "language_info": {
   "name": "python"
  }
 },
 "nbformat": 4,
 "nbformat_minor": 0
}
