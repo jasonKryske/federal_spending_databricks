{
 "cells": [
  {
   "cell_type": "markdown",
   "metadata": {
    "application/vnd.databricks.v1+cell": {
     "cellMetadata": {},
     "inputWidgets": {},
     "nuid": "93e56488-6157-483e-bb23-ec9714f9f873",
     "showTitle": false,
     "tableResultSettingsMap": {},
     "title": ""
    }
   },
   "source": [
    "# Load from Bronze\n",
    "\n",
    "**The bronze table data was downloaded from 'https://www.usaspending.gov/download_center/custom_account_data' with the following filters:**\n",
    "\n",
    "*Budget Function \\\n",
    "All \\\n",
    "Budget Sub-Function \\\n",
    "Budget sub-function not selected \\\n",
    "Agency \\\n",
    "All \\\n",
    "Federal Account \\\n",
    "Federal account not selected \\\n",
    "Account Level \\\n",
    "Federal Account \\\n",
    "Disaster Emergency Fund Codes \\\n",
    "— \\\n",
    "File Submission Type \\\n",
    "Account Balances (File A) \\\n",
    "Fiscal Year \\\n",
    "2024 - P12*"
   ]
  },
  {
   "cell_type": "code",
   "execution_count": 0,
   "metadata": {
    "application/vnd.databricks.v1+cell": {
     "cellMetadata": {
      "byteLimit": 2048000,
      "rowLimit": 10000
     },
     "inputWidgets": {},
     "nuid": "35baa014-9ede-4d29-adb4-e3f4411fbb68",
     "showTitle": false,
     "tableResultSettingsMap": {},
     "title": ""
    }
   },
   "outputs": [],
   "source": [
    "from pyspark.sql.functions import *"
   ]
  },
  {
   "cell_type": "code",
   "execution_count": 0,
   "metadata": {
    "application/vnd.databricks.v1+cell": {
     "cellMetadata": {
      "byteLimit": 2048000,
      "implicitDf": true,
      "rowLimit": 10000
     },
     "inputWidgets": {},
     "nuid": "21f0b191-8f54-4b75-b91c-9b853a675a89",
     "showTitle": false,
     "tableResultSettingsMap": {},
     "title": ""
    }
   },
   "outputs": [],
   "source": [
    "%sql\n",
    "SELECT current_schema()"
   ]
  },
  {
   "cell_type": "code",
   "execution_count": 0,
   "metadata": {
    "application/vnd.databricks.v1+cell": {
     "cellMetadata": {
      "byteLimit": 2048000,
      "implicitDf": true,
      "rowLimit": 10000
     },
     "inputWidgets": {},
     "nuid": "2e5e7f70-ea02-45a5-bdfb-aa724007ec4f",
     "showTitle": false,
     "tableResultSettingsMap": {},
     "title": ""
    }
   },
   "outputs": [],
   "source": [
    "%sql\n",
    "USE SCHEMA federal_spending_bronze"
   ]
  },
  {
   "cell_type": "code",
   "execution_count": 0,
   "metadata": {
    "application/vnd.databricks.v1+cell": {
     "cellMetadata": {
      "byteLimit": 2048000,
      "implicitDf": true,
      "rowLimit": 10000
     },
     "inputWidgets": {},
     "nuid": "7e7a7c35-37d0-4114-8e9d-947f9aa20c4c",
     "showTitle": false,
     "tableResultSettingsMap": {},
     "title": ""
    }
   },
   "outputs": [],
   "source": [
    "%sql\n",
    "\n",
    "DESCRIBE EXTENDED 2024_federal_spending_bronze_table\n"
   ]
  },
  {
   "cell_type": "code",
   "execution_count": 0,
   "metadata": {
    "application/vnd.databricks.v1+cell": {
     "cellMetadata": {
      "byteLimit": 2048000,
      "rowLimit": 10000
     },
     "inputWidgets": {},
     "nuid": "d730617c-b004-4c4f-8e88-f4a21ce69616",
     "showTitle": false,
     "tableResultSettingsMap": {},
     "title": ""
    }
   },
   "outputs": [],
   "source": [
    "spending24_df = spark.table(\"2024_federal_spending_bronze_table\")\n",
    "spending24_df.display()"
   ]
  },
  {
   "cell_type": "code",
   "execution_count": 0,
   "metadata": {
    "application/vnd.databricks.v1+cell": {
     "cellMetadata": {
      "byteLimit": 2048000,
      "rowLimit": 10000
     },
     "inputWidgets": {},
     "nuid": "d4aead2d-d7fa-423b-a461-883007a3152f",
     "showTitle": false,
     "tableResultSettingsMap": {},
     "title": ""
    }
   },
   "outputs": [],
   "source": [
    "spending24_df.describe().display()"
   ]
  },
  {
   "cell_type": "code",
   "execution_count": 0,
   "metadata": {
    "application/vnd.databricks.v1+cell": {
     "cellMetadata": {
      "byteLimit": 2048000,
      "rowLimit": 10000
     },
     "inputWidgets": {},
     "nuid": "cda507f7-0ecd-4627-b174-77125888557f",
     "showTitle": false,
     "tableResultSettingsMap": {},
     "title": ""
    }
   },
   "outputs": [],
   "source": [
    "spending24_df.select([sum(col(c).isNull().cast(\"int\")).alias(c) for c in spending24_df.columns]).display()"
   ]
  },
  {
   "cell_type": "code",
   "execution_count": 0,
   "metadata": {
    "application/vnd.databricks.v1+cell": {
     "cellMetadata": {
      "byteLimit": 2048000,
      "rowLimit": 10000
     },
     "inputWidgets": {},
     "nuid": "e4bea2a0-95a7-42f5-a283-e00379e9444b",
     "showTitle": false,
     "tableResultSettingsMap": {},
     "title": ""
    }
   },
   "outputs": [],
   "source": [
    "spending24_df.printSchema()"
   ]
  },
  {
   "cell_type": "code",
   "execution_count": 0,
   "metadata": {
    "application/vnd.databricks.v1+cell": {
     "cellMetadata": {
      "byteLimit": 2048000,
      "rowLimit": 10000
     },
     "inputWidgets": {},
     "nuid": "4169a296-b764-4099-9aad-7a270ce16046",
     "showTitle": false,
     "tableResultSettingsMap": {},
     "title": ""
    }
   },
   "outputs": [],
   "source": [
    "create_table_query = \"\"\"\n",
    "CREATE TABLE spending24 (\n",
    "    owning_agency_name STRING,\n",
    "    reporting_agency_name STRING,\n",
    "    submission_period STRING,\n",
    "    federal_account_symbol STRING,\n",
    "    federal_account_name STRING,\n",
    "    agency_identifier_name STRING,\n",
    "    budget_function STRING,\n",
    "    budget_subfunction STRING,\n",
    "    budget_authority_unobligated_balance_brought_forward DOUBLE,\n",
    "    adjustments_to_unobligated_balance_brought_forward_cpe DOUBLE,\n",
    "    budget_authority_appropriated_amount DOUBLE,\n",
    "    borrowing_authority_amount DOUBLE,\n",
    "    contract_authority_amount DOUBLE,\n",
    "    spending_authority_from_offsetting_collections_amount DOUBLE,\n",
    "    total_other_budgetary_resources_amount DOUBLE,\n",
    "    total_budgetary_resources DOUBLE,\n",
    "    obligations_incurred DOUBLE,\n",
    "    deobligations_or_recoveries_or_refunds_from_prior_year DOUBLE,\n",
    "    unobligated_balance DOUBLE,\n",
    "    gross_outlay_amount DOUBLE,\n",
    "    status_of_budgetary_resources_total DOUBLE,\n",
    "    last_modified_date DATE\n",
    ")\n",
    "\"\"\"\n",
    "spark.sql(create_table_query)"
   ]
  }
 ],
 "metadata": {
  "application/vnd.databricks.v1+notebook": {
   "computePreferences": null,
   "dashboards": [],
   "environmentMetadata": {
    "base_environment": "",
    "environment_version": "2"
   },
   "inputWidgetPreferences": null,
   "language": "python",
   "notebookMetadata": {
    "mostRecentlyExecutedCommandWithImplicitDF": {
     "commandId": 8590253786742320,
     "dataframes": [
      "_sqldf"
     ]
    },
    "pythonIndentUnit": 4
   },
   "notebookName": "2024 Federal Spending Pre Development EDA",
   "widgets": {}
  },
  "language_info": {
   "name": "python"
  }
 },
 "nbformat": 4,
 "nbformat_minor": 0
}
